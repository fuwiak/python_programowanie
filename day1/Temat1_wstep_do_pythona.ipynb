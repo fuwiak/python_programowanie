{
 "cells": [
  {
   "cell_type": "markdown",
   "metadata": {},
   "source": [
    "# Zajęcia 0 - wstęp do pythona"
   ]
  },
  {
   "cell_type": "markdown",
   "metadata": {},
   "source": [
    "## Typy danych i proste operacje matematyczne\n"
   ]
  },
  {
   "cell_type": "code",
   "execution_count": 55,
   "metadata": {},
   "outputs": [
    {
     "name": "stdout",
     "output_type": "stream",
     "text": [
      "1 <class 'int'>\n",
      "True <class 'bool'>\n",
      "3.14 <class 'float'>\n",
      "Ala ma kota <class 'str'>\n",
      "False\n",
      "True\n",
      "True\n"
     ]
    }
   ],
   "source": [
    "x = 1                # integer\n",
    "print(x, type(x))\n",
    "y = True             # boolean (True, False)\n",
    "print(y, type(y))\n",
    "z = 3.14             # floating point\n",
    "print(z, type(z))\n",
    "s = \"Ala ma kota\"    # string\n",
    "print(s, type(s))\n",
    "\n",
    "# na integerach\n",
    "\n",
    "x = 4            # integer\n",
    "x1 = x + 4       # dodawanie\n",
    "x2 = x - 1       # odejmowanie\n",
    "x3 = x * 3       # mnożenie\n",
    "x4 = x / 2       # odejmowanie\n",
    "x += 2           # x = x + 2\n",
    "x -= 2           # x = x - 2\n",
    "x *= 3           # x = x * 3\n",
    "x /= 3           # x = x / 3\n",
    "x5 = x           # przypisanie zmiennych      \n",
    "x6 = x % 4       # dzielenie modulo\n",
    "\n",
    "# na floatach\n",
    "\n",
    "z = 3.14         # floating point\n",
    "z1 = z + 2.0     # dodawanie\n",
    "z2 = z - 2.0     # odejmowanie\n",
    "z3 = z / 3.0     # dzielenie\n",
    "z4 = z // 3.0    # dzielenie całkowite\n",
    "z += 2.0         # z = z + 2\n",
    "z -= 2.0         # z = z - 2\n",
    "z *= 3.0         # z = z * 3\n",
    "z /= 3.0         # z = z / 3\n",
    "z5 = z ** 2      # z^2 \n",
    "z6 = z ** 0.5    # z^(1/2) == sqrt(z)\n",
    "z7 = pow(z,2)    # z^2\n",
    "z8 = round(z)    # zaokrąglenie do najbliższego integera \n",
    "z9 = int(z)      # rzutowanie floata na integer\n",
    "\n",
    "y1 = True\n",
    "y2 = False\n",
    "\n",
    "print(y1 and y2)       # logiczny AND\n",
    "print(y1 or y2)        # logiczny OR\n",
    "print(y1 and not y2)   # logiczny NOT"
   ]
  },
  {
   "cell_type": "markdown",
   "metadata": {},
   "source": [
    "## Biblioteka math"
   ]
  },
  {
   "cell_type": "code",
   "execution_count": 56,
   "metadata": {},
   "outputs": [
    {
     "name": "stdout",
     "output_type": "stream",
     "text": [
      "2.0\n",
      "16.0\n",
      "54.598150033144236\n",
      "1.3862943611198906\n",
      "2.0\n",
      "4.0\n",
      "24\n",
      "1\n",
      "0\n",
      "0\n",
      "1.2246467991473532e-16\n",
      "0.99627207622075\n",
      "True\n",
      "True\n"
     ]
    }
   ],
   "source": [
    "import math\n",
    "\n",
    "x = 4\n",
    "print(math.sqrt(x))      # sqrt(4) = 2\n",
    "print(math.pow(x,2))     # 4**2 = 16\n",
    "print(math.exp(x))       # exp(4) = 54.6\n",
    "print(math.log(x))       # ln(x)\n",
    "print(math.log(x,10))    # log_10(x)\n",
    "print(math.fabs(-4))     # wartość bezwzględna\n",
    "print(math.factorial(x)) # 4! \n",
    "\n",
    "z = 0.2\n",
    "print(math.ceil(z))      # najmniejszy float z wartością dziesiętną 0 nie mniejszy niż z (1.0)\n",
    "print(math.floor(z))     # największy float z wartością dziesiętną 0 nie większy niż z (0.0)\n",
    "print(math.trunc(z))     # najbliższy integer nie większy niż z (0)\n",
    "\n",
    "z = math.pi              # 3.141592653589793 \n",
    "print(math.sin(z))       # sinus kąta z (miara łukowa)\n",
    "print(math.tanh(z))      # tangens hiperboliczny kąta z (miara łukowa)\n",
    "\n",
    "x = math.nan             # wartość specjalna NaN (not a number)\n",
    "print(math.isnan(x))\n",
    "\n",
    "x = math.inf             # nieskończoność\n",
    "print(math.isinf(x))"
   ]
  },
  {
   "cell_type": "markdown",
   "metadata": {},
   "source": [
    "## Łańcuchy znakowe"
   ]
  },
  {
   "cell_type": "code",
   "execution_count": 57,
   "metadata": {},
   "outputs": [
    {
     "name": "stdout",
     "output_type": "stream",
     "text": [
      "la ma kota\n",
      "Ala \n",
      "11\n",
      "Długość łańcucha to 11\n",
      "ALA MA KOTA\n",
      "ala ma kota\n",
      "Ala\n",
      "Ala_ma_kota\n",
      "Ala chce kota\n",
      "2\n",
      "False\n",
      "True\n",
      "False\n",
      "Ala ma kota i chomika\n",
      "Ala ma kota Ala ma kota Ala ma kota \n"
     ]
    }
   ],
   "source": [
    "s1 = \"Ala ma kota\"\n",
    "\n",
    "print(s1[1:])                    # wyświetlnie łańcucha od pozycji pierwszej do końca\n",
    "print(s1[:4])                    # wyświetlenie łańcucha od pozycji 0 do pozycji 4\n",
    "print(len(s1))                               # długość łańcucha\n",
    "print(\"Długość łańcucha to \" + str(len(s1))) # konkatenacja łańcucha znaków z wartością liczbową (rzutowanie na stringa)\n",
    "print(s1.upper())                            # wszystko z wielkiej litery\n",
    "print(s1.lower())                            # wszytsko z małej litery\n",
    "\n",
    "words = s1.split(' ')             # połamane łańcucha znaków na listę na każdej spacji\n",
    "print(words[0])                   # pierwsze słowo z połamanego łańcucha znaków\n",
    "print(s1.replace(' ','_'))        # zamiana znaków ( spacja na podłogę )\n",
    "print(s1.replace('ma','chce'))    # zamiana podciągu znaków (ma na chce)\n",
    "print(s1.find(\"a\"))               # pozycja litery a\n",
    "s2 = \"psa\"\n",
    "print(s1 in s2)                   # sprawdzenie, czy podciąg s2 znajduje się w ciągu s1\n",
    "\n",
    "print(s1 == 'Ala ma kota')        # sprawdzenie równoważności ciągów\n",
    "print(s1 is s2)                   # sprawdzenie, czy s1 i s2 to ten sam podciąg (w pamięci)\n",
    "print(s1 + \" i chomika\")          # konkatenacja łańcuchów znaków\n",
    "print((s1 + \" \")* 3)              # Powtórzenie ciągu znaków s1 trzy razy "
   ]
  },
  {
   "cell_type": "markdown",
   "metadata": {},
   "source": [
    "## Operacje na listach"
   ]
  },
  {
   "cell_type": "code",
   "execution_count": 58,
   "metadata": {},
   "outputs": [
    {
     "name": "stdout",
     "output_type": "stream",
     "text": [
      "<class 'list'>\n",
      "[1, 5, 2, 4, 3]\n",
      "[1, 5, 2, 4, 3]\n",
      "2\n",
      "[1, 5]\n",
      "[2, 4, 3]\n",
      "5\n",
      "15\n",
      "[1, 5, 2, 4, 3, 11]\n",
      "11\n",
      "[1, 5, 2, 4, 3]\n",
      "[1, 5, 2, 4, 3, 11, 13, 15]\n",
      "[1, 5, 2, 4, 3, 1, 5, 2, 4, 3, 1, 5, 2, 4, 3]\n",
      "[1, 5, 88, 2, 4, 3]\n",
      "[1, 5, 6, 2, 4, 3]\n",
      "[1, 2, 3, 4, 5, 6]\n",
      "[6, 5, 4, 3, 2, 1]\n",
      "['To', 'jest', 'lista', 'stringów']\n",
      "<class 'list'>\n",
      "True\n",
      "lista\n",
      "['To', 'jest']\n",
      "['lista', 'stringów']\n",
      "To jest lista stringów kropka\n",
      "['To', 'jest', 'lista', 'kropka']\n",
      "['To', 'jest', 'lista', 'łańcuchów', 'kropka']\n"
     ]
    }
   ],
   "source": [
    "lista = [1, 5, 2, 4, 3]\n",
    "print(type(lista))\n",
    "print(lista)\n",
    "lista2 = list(range(0,10,2))     # nowa lista z od 0 do 10 z krokiem inkrementacji równym 2\n",
    "print(lista)\n",
    "\n",
    "print(lista[2])                  # trzeci element listy lista (czyli element o drugim indeksie)\n",
    "print(lista[:2])                 # dwa pierwsze elementy listy\n",
    "print(lista[2:])                 # trzy ostatnie elementy listy\n",
    "print(len(lista))                # liczba elementów w liście\n",
    "print(sum(lista))                # suma elementów listy\n",
    "\n",
    "lista.append(11)                 # dodaj 11 na koniec listy\n",
    "print(lista)\n",
    "print(lista.pop())               # pobierz ostatni element z listy (usuwa z listy)\n",
    "print(lista)\n",
    "print(lista + [11,13,15])        # scalenie dwórch list w jedną\n",
    "print(lista * 3)                 # trzykrotne powielenie listy\n",
    "lista.insert(2,88)               # wsadź element 88 pod indeks 2 (przesuwa elementy)\n",
    "print(lista)\n",
    "lista[2] = 6                     # wsadż element 6 pod indeks 2 (zamiana wartości elementu)\n",
    "print(lista)\n",
    "lista.sort()                     # posortuj listę rosnąco\n",
    "print(lista)\n",
    "lista.sort(reverse=True)         # posortuj listę malejąco\n",
    "print(lista)\n",
    "\n",
    "# Tak samo można pracować z listami przechowującymi łańcuchy znaków\n",
    "\n",
    "lista_stringow = ['To', 'jest', 'lista', 'stringów']\n",
    "print(lista_stringow)\n",
    "print(type(lista_stringow))\n",
    "\n",
    "print(\"lista\" in lista_stringow)         # sprawdzenie, czy lista znajduje się w lista_stringow\n",
    "print(lista_stringow[2])                 # pokaż element o indeksie 2\n",
    "print(lista_stringow[:2])                # pokaż dwa pierwsze elementy listy\n",
    "print(lista_stringow[2:])                # pokaż dwa ostatnie elementy listy\n",
    "lista_stringow.append(\"kropka\")          # dodaj element kropka na koniec lista_stringow\n",
    "\n",
    "separator = \" \"\n",
    "print(separator.join(lista_stringow))    # połącz listę w jeden string używając spacji jako separatora\n",
    "\n",
    "lista_stringow.remove(\"stringów\")        # usuń element stringów z listy\n",
    "print(lista_stringow)\n",
    "\n",
    "lista_stringow.insert(3,\"stringów\") \n",
    "index = lista_stringow.index(\"stringów\") # indeks elementu stringów\n",
    "lista_stringow[index] = \"łańcuchów\"      # zastąpienie elementu o indeksie index wartością łańcuchów\n",
    "print(lista_stringow)\n",
    "\n"
   ]
  },
  {
   "cell_type": "markdown",
   "metadata": {},
   "source": [
    "## Operacje na słownikach"
   ]
  },
  {
   "cell_type": "code",
   "execution_count": 59,
   "metadata": {},
   "outputs": [
    {
     "name": "stdout",
     "output_type": "stream",
     "text": [
      "{'TRN': 'Toruń', 'WAR': 'Warszawa', 'KRA': 'Kraków', 'WRO': 'Wrocław'}\n",
      "dict_keys(['TRN', 'WAR', 'KRA', 'WRO'])\n",
      "dict_values(['Toruń', 'Warszawa', 'Kraków', 'Wrocław'])\n",
      "4\n",
      "Toruń\n",
      "Toruń\n",
      "True\n",
      "False\n",
      "{4: 'Nowa nadzieja', 5: 'mperium kontratakuje', 6: 'Powrót Jedi'}\n",
      "{4: 'Nowa nadzieja', 5: 'mperium kontratakuje', 6: 'Powrót Jedi', 1: 'Mroczne widmo', 2: 'Atak klonów', 3: 'Zemsta Sithów'}\n",
      "[1, 2, 3, 4, 5, 6]\n",
      "[('KRA', 'Kraków'), ('TRN', 'Toruń'), ('WAR', 'Warszawa'), ('WRO', 'Wrocław')]\n",
      "[('KRA', 'Kraków'), ('TRN', 'Toruń'), ('WAR', 'Warszawa'), ('WRO', 'Wrocław')]\n"
     ]
    }
   ],
   "source": [
    "miasta = {}                     # nowy słownik \n",
    "miasta['TRN'] = \"Toruń\"         # dodanie klucza TRN o wartości Toruń\n",
    "miasta['WAR'] = \"Warszawa\"\n",
    "miasta['KRA'] = \"Kraków\"\n",
    "miasta['WRO'] = \"Wrocław\"\n",
    "\n",
    "print(miasta)\n",
    "print(miasta.keys())            # wybór kluczy ze słownika\n",
    "print(miasta.values())          # wybór wartości ze słownika\n",
    "print(len(miasta))              # liczba elementów w słowniku\n",
    "\n",
    "print(miasta.get('TRN'))        # wybór wartości dla klucza TRN\n",
    "print(miasta['TRN'])            # wybór wartości dla klucza TRN\n",
    "print(\"TRN\" in miasta)          # sprawdzenie, czy klucz TRN jest w słowniku\n",
    "print(\"BYD\" in miasta)          # sprawdzenie, czy klucz BYD jest w słowniku\n",
    "\n",
    "wartosci = ['Nowa nadzieja', 'Imperium kontratakuje', 'Powrót Jedi']\n",
    "klucze = [4, 5, 6]\n",
    "StarWars = dict(zip(klucze, wartosci)) # utworzenie nowego słownika z list kluczy i wartości \n",
    "print(StarWars)\n",
    "\n",
    "StarWars.update({1: 'Mroczne widmo', 2: 'Atak klonów', 3: 'Zemsta Sithów'}) # scalenie dwóch słowników\n",
    "print(StarWars)\n",
    "print(sorted(StarWars))        # posortowanie słownika po kluczach\n",
    "\n",
    "from operator import itemgetter\n",
    "print(sorted(miasta.items(), key=itemgetter(0)))    # posortowanie słownika po kluczach\n",
    "print(sorted(miasta.items(), key=itemgetter(1)))    # posortowanie słownika po wartościach"
   ]
  },
  {
   "cell_type": "markdown",
   "metadata": {},
   "source": [
    "## Operacje na krotkach"
   ]
  },
  {
   "cell_type": "code",
   "execution_count": 60,
   "metadata": {},
   "outputs": [
    {
     "name": "stdout",
     "output_type": "stream",
     "text": [
      "('PL', 'Polska', 'Warszawa')\n",
      "('Polska', 'Warszawa')\n",
      "[('PL', 'Polska', 'Warszawa'), ('GB', 'Wielka Brytania', 'Londyn'), ('DE', 'Niemcy', 'Berlin')]\n",
      "[('DE', 'Niemcy', 'Berlin'), ('GB', 'Wielka Brytania', 'Londyn'), ('PL', 'Polska', 'Warszawa')]\n"
     ]
    }
   ],
   "source": [
    "PL_tup = ('PL', 'Polska', 'Warszawa')\n",
    "GB_tup = ('GB', 'Wielka Brytania', 'Londyn')\n",
    "DE_tup = ('DE', 'Niemcy', 'Berlin')\n",
    "\n",
    "print(PL_tup)\n",
    "print(PL_tup[1:])                       # wyświetlenie krotki od elementu o indeksie 1\n",
    "\n",
    "kraje = [PL_tup, GB_tup, DE_tup]        # lista krotek\n",
    "print(kraje)\n",
    "\n",
    "kraje.sort(key=lambda kraje: kraje[2])  # posortowanie listy krotek po nazwie stolicy\n",
    "print(kraje)"
   ]
  },
  {
   "cell_type": "markdown",
   "metadata": {},
   "source": [
    "## Instrukcje warunkowe i pętle"
   ]
  },
  {
   "cell_type": "code",
   "execution_count": 61,
   "metadata": {},
   "outputs": [
    {
     "name": "stdout",
     "output_type": "stream",
     "text": [
      "Liczba parzysta\n",
      "Liczba dodatnia\n",
      "Wartość iteratora to 1\n",
      "Wartość iteratora to 2\n",
      "Wartość iteratora to 3\n",
      "Wartość iteratora to 4\n",
      "Wartość iteratora to 5\n",
      "Wartość iteratora to 6\n",
      "Wartość iteratora to 7\n",
      "Wartość iteratora to 8\n",
      "Wartość iteratora to 9\n",
      "Wartość iteratora to 10\n",
      "Element 6 listy lista to 6\n",
      "Element 5 listy lista to 5\n",
      "Element 4 listy lista to 4\n",
      "Element 3 listy lista to 3\n",
      "Element 2 listy lista to 2\n",
      "Element 1 listy lista to 1\n",
      "['Berlin', 'Londyn', 'Warszawa']\n",
      "['TRN', 'WAR', 'KRA', 'WRO']\n",
      "[-10, -8, -6, -4, -2, 0, 2, 4, 6, 8]\n",
      "-10\n",
      "-8\n",
      "-6\n",
      "-4\n",
      "-2\n"
     ]
    }
   ],
   "source": [
    "x = 10\n",
    "\n",
    "# instrukcja warunkowa if\n",
    "\n",
    "if x % 2 == 0:\n",
    "    print(\"Liczba parzysta\")\n",
    "else:\n",
    "    print(\"Liczba nieparzysta\")\n",
    "    \n",
    "    \n",
    "if ( x > 0 ):\n",
    "    print(\"Liczba dodatnia\")\n",
    "elif ( x < 0 ):\n",
    "    print(\"Liczba ujemna\")\n",
    "else:\n",
    "    print(\"Zero\")\n",
    "    \n",
    "    \n",
    "# pętla for\n",
    "\n",
    "for i in range(1,11):\n",
    "    print(\"Wartość iteratora to \" + str(i))\n",
    "    \n",
    "for i in lista:\n",
    "    index = lista.index(i)\n",
    "    print(\"Element \" + str(i) + \" listy lista to \" + str(i))\n",
    "    \n",
    "stolice = [ stolica[2] for stolica in kraje ]\n",
    "stolice.sort()\n",
    "print(stolice)\n",
    "\n",
    "miasta_skroty = [ k for (k, v) in miasta.items()]\n",
    "print(miasta_skroty)\n",
    "    \n",
    "# pętla while    \n",
    "    \n",
    "lista_intow = list(range(-10, 10, 2))\n",
    "print(lista_intow)\n",
    "\n",
    "i = 0\n",
    "while (lista_intow[i] < 0):\n",
    "    print(lista_intow[i])\n",
    "    i += 1\n",
    "    \n",
    "    \n"
   ]
  },
  {
   "cell_type": "markdown",
   "metadata": {},
   "source": [
    "## Własne funkcje"
   ]
  },
  {
   "cell_type": "code",
   "execution_count": 62,
   "metadata": {},
   "outputs": [
    {
     "name": "stdout",
     "output_type": "stream",
     "text": [
      "2.8284271247461903\n",
      "2.8284271247461903\n",
      "Hello world!\n"
     ]
    }
   ],
   "source": [
    "# funkcja przyjmuje dwa argumenty będące słownikami\n",
    "def dlugoscOdcinka(punktA, punktB):\n",
    "    return ((punktA['x']-punktB['x'])**2 + (punktA['y']-punktB['y'])**2)**(0.5)\n",
    "\n",
    "print(str(dlugoscOdcinka({'x': 0, 'y':0}, {'x':2, 'y':2})))\n",
    "\n",
    "# to samo z wykorzystaniem lambdy\n",
    "dlugosc = lambda punktA, punktB: ((punktA['x']-punktB['x'])**2 + (punktA['y']-punktB['y'])**2)**(0.5)\n",
    "\n",
    "print(str(dlugosc({'x': 0, 'y':0}, {'x':2, 'y':2})))\n",
    "\n",
    "# lambda bez parametrów\n",
    "przywitaj = lambda : print(\"Hello world!\")\n",
    "przywitaj()"
   ]
  },
  {
   "cell_type": "markdown",
   "metadata": {},
   "source": [
    "## Operacje na plikach"
   ]
  },
  {
   "cell_type": "code",
   "execution_count": 63,
   "metadata": {},
   "outputs": [
    {
     "name": "stdout",
     "output_type": "stream",
     "text": [
      "Witaj świecie!\n",
      "Pracujemy zdalnie.\n",
      "Każdy z nas przy swoim komputerze, z kubkiem ciepłej kawy lub herbaty.\n",
      "A tutaj dodatkowa linia dodana z pythona \n",
      "\n",
      "Linia 0 Witaj świecie!\n",
      "\n",
      "Linia 1 Pracujemy zdalnie.\n",
      "\n",
      "Linia 2 Każdy z nas przy swoim komputerze, z kubkiem ciepłej kawy lub herbaty.\n",
      "\n",
      "Linia 3 A tutaj dodatkowa linia dodana z pythona \n",
      "\n",
      "Linia 4 A tutaj dodatkowa linia dodana z pythona \n",
      "\n"
     ]
    }
   ],
   "source": [
    "# rozwiązanie dłuższe\n",
    "\n",
    "f = open(\"./plik.txt\", 'r')\n",
    "zawartosc_pliku = f.read()\n",
    "f.close()\n",
    "\n",
    "print(zawartosc_pliku)\n",
    "\n",
    "f = open(\"./plik.txt\", \"a\")\n",
    "f.write(\"A tutaj dodatkowa linia dodana z pythona \\n\")\n",
    "f.close()\n",
    "\n",
    "\n",
    "# rozwiązanie szybsze i krótsze\n",
    "\n",
    "with open('./plik.txt', 'r') as f:\n",
    "    i = 0\n",
    "    for linia in f:\n",
    "        print(\"Linia \" + str(i) + ' ' +  linia)\n",
    "        i += 1\n",
    "        \n",
    "\n",
    "\n"
   ]
  },
  {
   "cell_type": "markdown",
   "metadata": {},
   "source": [
    "## Praca domowa"
   ]
  },
  {
   "cell_type": "markdown",
   "metadata": {},
   "source": [
    "Korzystając z treści pliku Top100.txt, w krórym zapisano czołowe 100 superkomputerów na świecie (dane z listopada 2019), stwórz odpowiednią strukturę dancyh, na której będzie Ci łatwo pracować. Zwróć uwagę na to, że kolumny to Rank | Site | System\tCores | Rmax (TFlop/s) | Rpeak (TFlop/s) | Power (kW). Zauważ, że pojedynczy rekord połamany jest na trzy linie (zwróć uwagę na separatory pól, które są inne niż separatory pojedynczych słów).\n",
    "\n",
    "Następnie wykonaj poniższe zadania, starając się zrealizować kod w jak najkrótszej postaci:\n",
    "\n",
    "1) Ile superkomputerów zlokalizowanych jest w Chinach?\n",
    "\n",
    "2) Ile rdzeni ma łącznie 10 pierwszych komputerów na liście?\n",
    "\n",
    "3) Który superkomputer zużywa najwięcej mocy?\n",
    "\n",
    "4) Ile łącznie mocy zużywają wszystkie superkomputery na tej liście?\n",
    "\n",
    "5) Czy wśród tych komputerów jest jakaś maszyna z Polski?\n",
    "\n",
    "6) Wypisz nazwę kraju, w którym jest najwięcej superkomputerów z tej listy.\n",
    "\n",
    "7) Ile superkomputerów korzysta z kart NVIDIA Tesla V100?\n",
    "\n",
    "8) Wypisz nazwy krajów, w których znajdują się superkomputery mające przynajmniej 250 000 rdzeni\n",
    "\n",
    "9) Podaj nazwy superkomputerów korzystających z Architektury BlueGene/Q\n",
    "\n",
    "10) Ile z superkomputerów należy do rządu USA (oznaczone jako Government)\n"
   ]
  },
  {
   "cell_type": "code",
   "execution_count": null,
   "metadata": {},
   "outputs": [],
   "source": [
    "\n"
   ]
  },
  {
   "cell_type": "code",
   "execution_count": null,
   "metadata": {},
   "outputs": [],
   "source": []
  }
 ],
 "metadata": {
  "kernelspec": {
   "display_name": "Python 3",
   "language": "python",
   "name": "python3"
  },
  "language_info": {
   "codemirror_mode": {
    "name": "ipython",
    "version": 3
   },
   "file_extension": ".py",
   "mimetype": "text/x-python",
   "name": "python",
   "nbconvert_exporter": "python",
   "pygments_lexer": "ipython3",
   "version": "3.7.7"
  }
 },
 "nbformat": 4,
 "nbformat_minor": 4
}
